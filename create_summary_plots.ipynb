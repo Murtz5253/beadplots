{
 "cells": [
  {
   "cell_type": "code",
   "execution_count": 1,
   "id": "7e9433b3",
   "metadata": {},
   "outputs": [],
   "source": [
    "import pandas as pd\n",
    "import numpy as np\n",
    "import altair as alt\n",
    "\n",
    "from collections import OrderedDict"
   ]
  },
  {
   "cell_type": "code",
   "execution_count": 41,
   "id": "546b95af",
   "metadata": {},
   "outputs": [
    {
     "data": {
      "text/html": [
       "<div>\n",
       "<style scoped>\n",
       "    .dataframe tbody tr th:only-of-type {\n",
       "        vertical-align: middle;\n",
       "    }\n",
       "\n",
       "    .dataframe tbody tr th {\n",
       "        vertical-align: top;\n",
       "    }\n",
       "\n",
       "    .dataframe thead th {\n",
       "        text-align: right;\n",
       "    }\n",
       "</style>\n",
       "<table border=\"1\" class=\"dataframe\">\n",
       "  <thead>\n",
       "    <tr style=\"text-align: right;\">\n",
       "      <th></th>\n",
       "      <th>num_paragraph</th>\n",
       "      <th>section</th>\n",
       "      <th>section_paragraph</th>\n",
       "      <th>occurence</th>\n",
       "    </tr>\n",
       "  </thead>\n",
       "  <tbody>\n",
       "    <tr>\n",
       "      <th>0</th>\n",
       "      <td>0</td>\n",
       "      <td>abstract</td>\n",
       "      <td>0</td>\n",
       "      <td>2</td>\n",
       "    </tr>\n",
       "    <tr>\n",
       "      <th>1</th>\n",
       "      <td>1</td>\n",
       "      <td>abstract</td>\n",
       "      <td>1</td>\n",
       "      <td>0</td>\n",
       "    </tr>\n",
       "    <tr>\n",
       "      <th>2</th>\n",
       "      <td>2</td>\n",
       "      <td>introduction</td>\n",
       "      <td>0</td>\n",
       "      <td>0</td>\n",
       "    </tr>\n",
       "    <tr>\n",
       "      <th>3</th>\n",
       "      <td>3</td>\n",
       "      <td>introduction</td>\n",
       "      <td>1</td>\n",
       "      <td>0</td>\n",
       "    </tr>\n",
       "    <tr>\n",
       "      <th>4</th>\n",
       "      <td>4</td>\n",
       "      <td>introduction</td>\n",
       "      <td>2</td>\n",
       "      <td>0</td>\n",
       "    </tr>\n",
       "  </tbody>\n",
       "</table>\n",
       "</div>"
      ],
      "text/plain": [
       "   num_paragraph       section  section_paragraph  occurence\n",
       "0              0      abstract                  0          2\n",
       "1              1      abstract                  1          0\n",
       "2              2  introduction                  0          0\n",
       "3              3  introduction                  1          0\n",
       "4              4  introduction                  2          0"
      ]
     },
     "execution_count": 41,
     "metadata": {},
     "output_type": "execute_result"
    }
   ],
   "source": [
    "sample_data = pd.read_csv('./women_comp_india_static_plot_data.csv')\n",
    "sample_data = sample_data.drop(['Unnamed: 0'], axis=1)\n",
    "sample_data.head()"
   ]
  },
  {
   "cell_type": "code",
   "execution_count": 39,
   "id": "96464344",
   "metadata": {},
   "outputs": [],
   "source": [
    "def create_bar_chart(sample_data):\n",
    "    max_occurence = sample_data.occurence.max()\n",
    "    chart = alt.Chart(sample_data).mark_bar(\n",
    "             width=6\n",
    "    ).encode(\n",
    "        y=alt.Y('num_paragraph:O', title='Paper Paragraph',\n",
    "                axis=alt.Axis(grid=False),\n",
    "               scale=alt.Scale(domainMin= 0)),\n",
    "        x=alt.X('occurence:Q', title='Key Word Occurence',\n",
    "                axis=alt.Axis(grid=False),\n",
    "               scale=alt.Scale(domain=[0, max_occurence+1])),\n",
    "        color='section',\n",
    "        tooltip=['section:N','section_paragraph:Q', 'occurence:Q']\n",
    "    ).properties(\n",
    "        width=400,\n",
    "        height=800\n",
    "    )\n",
    "\n",
    "    return chart"
   ]
  },
  {
   "cell_type": "code",
   "execution_count": 40,
   "id": "29796ebc",
   "metadata": {},
   "outputs": [
    {
     "data": {
      "text/html": [
       "\n",
       "<div id=\"altair-viz-d00fbb2cbb454574b3df56eae142fb2b\"></div>\n",
       "<script type=\"text/javascript\">\n",
       "  var VEGA_DEBUG = (typeof VEGA_DEBUG == \"undefined\") ? {} : VEGA_DEBUG;\n",
       "  (function(spec, embedOpt){\n",
       "    let outputDiv = document.currentScript.previousElementSibling;\n",
       "    if (outputDiv.id !== \"altair-viz-d00fbb2cbb454574b3df56eae142fb2b\") {\n",
       "      outputDiv = document.getElementById(\"altair-viz-d00fbb2cbb454574b3df56eae142fb2b\");\n",
       "    }\n",
       "    const paths = {\n",
       "      \"vega\": \"https://cdn.jsdelivr.net/npm//vega@5?noext\",\n",
       "      \"vega-lib\": \"https://cdn.jsdelivr.net/npm//vega-lib?noext\",\n",
       "      \"vega-lite\": \"https://cdn.jsdelivr.net/npm//vega-lite@4.17.0?noext\",\n",
       "      \"vega-embed\": \"https://cdn.jsdelivr.net/npm//vega-embed@6?noext\",\n",
       "    };\n",
       "\n",
       "    function maybeLoadScript(lib, version) {\n",
       "      var key = `${lib.replace(\"-\", \"\")}_version`;\n",
       "      return (VEGA_DEBUG[key] == version) ?\n",
       "        Promise.resolve(paths[lib]) :\n",
       "        new Promise(function(resolve, reject) {\n",
       "          var s = document.createElement('script');\n",
       "          document.getElementsByTagName(\"head\")[0].appendChild(s);\n",
       "          s.async = true;\n",
       "          s.onload = () => {\n",
       "            VEGA_DEBUG[key] = version;\n",
       "            return resolve(paths[lib]);\n",
       "          };\n",
       "          s.onerror = () => reject(`Error loading script: ${paths[lib]}`);\n",
       "          s.src = paths[lib];\n",
       "        });\n",
       "    }\n",
       "\n",
       "    function showError(err) {\n",
       "      outputDiv.innerHTML = `<div class=\"error\" style=\"color:red;\">${err}</div>`;\n",
       "      throw err;\n",
       "    }\n",
       "\n",
       "    function displayChart(vegaEmbed) {\n",
       "      vegaEmbed(outputDiv, spec, embedOpt)\n",
       "        .catch(err => showError(`Javascript Error: ${err.message}<br>This usually means there's a typo in your chart specification. See the javascript console for the full traceback.`));\n",
       "    }\n",
       "\n",
       "    if(typeof define === \"function\" && define.amd) {\n",
       "      requirejs.config({paths});\n",
       "      require([\"vega-embed\"], displayChart, err => showError(`Error loading script: ${err.message}`));\n",
       "    } else {\n",
       "      maybeLoadScript(\"vega\", \"5\")\n",
       "        .then(() => maybeLoadScript(\"vega-lite\", \"4.17.0\"))\n",
       "        .then(() => maybeLoadScript(\"vega-embed\", \"6\"))\n",
       "        .catch(showError)\n",
       "        .then(() => displayChart(vegaEmbed));\n",
       "    }\n",
       "  })({\"config\": {\"view\": {\"continuousWidth\": 400, \"continuousHeight\": 300}}, \"data\": {\"name\": \"data-f44ff9350b730f4807eba44353051517\"}, \"mark\": {\"type\": \"bar\", \"width\": 6}, \"encoding\": {\"color\": {\"field\": \"section\", \"type\": \"nominal\"}, \"tooltip\": [{\"field\": \"section\", \"type\": \"nominal\"}, {\"field\": \"section_paragraph\", \"type\": \"quantitative\"}, {\"field\": \"occurence\", \"type\": \"quantitative\"}], \"x\": {\"axis\": {\"grid\": false}, \"field\": \"occurence\", \"scale\": {\"domain\": [0, 8]}, \"title\": \"Key Word Occurence\", \"type\": \"quantitative\"}, \"y\": {\"axis\": {\"grid\": false}, \"field\": \"num_paragraph\", \"scale\": {\"domainMin\": 0}, \"title\": \"Paper Paragraph\", \"type\": \"ordinal\"}}, \"height\": 800, \"width\": 400, \"$schema\": \"https://vega.github.io/schema/vega-lite/v4.17.0.json\", \"datasets\": {\"data-f44ff9350b730f4807eba44353051517\": [{\"Unnamed: 0\": 0, \"num_paragraph\": 0, \"section\": \"abstract\", \"section_paragraph\": 0, \"occurence\": 2}, {\"Unnamed: 0\": 1, \"num_paragraph\": 1, \"section\": \"abstract\", \"section_paragraph\": 1, \"occurence\": 0}, {\"Unnamed: 0\": 2, \"num_paragraph\": 2, \"section\": \"introduction\", \"section_paragraph\": 0, \"occurence\": 0}, {\"Unnamed: 0\": 3, \"num_paragraph\": 3, \"section\": \"introduction\", \"section_paragraph\": 1, \"occurence\": 0}, {\"Unnamed: 0\": 4, \"num_paragraph\": 4, \"section\": \"introduction\", \"section_paragraph\": 2, \"occurence\": 0}, {\"Unnamed: 0\": 5, \"num_paragraph\": 5, \"section\": \"introduction\", \"section_paragraph\": 3, \"occurence\": 0}, {\"Unnamed: 0\": 6, \"num_paragraph\": 6, \"section\": \"introduction\", \"section_paragraph\": 4, \"occurence\": 2}, {\"Unnamed: 0\": 7, \"num_paragraph\": 7, \"section\": \"introduction\", \"section_paragraph\": 5, \"occurence\": 1}, {\"Unnamed: 0\": 8, \"num_paragraph\": 8, \"section\": \"introduction\", \"section_paragraph\": 6, \"occurence\": 0}, {\"Unnamed: 0\": 9, \"num_paragraph\": 9, \"section\": \"introduction\", \"section_paragraph\": 7, \"occurence\": 1}, {\"Unnamed: 0\": 10, \"num_paragraph\": 10, \"section\": \"related work\", \"section_paragraph\": 0, \"occurence\": 0}, {\"Unnamed: 0\": 11, \"num_paragraph\": 11, \"section\": \"related work\", \"section_paragraph\": 1, \"occurence\": 0}, {\"Unnamed: 0\": 12, \"num_paragraph\": 12, \"section\": \"related work\", \"section_paragraph\": 2, \"occurence\": 1}, {\"Unnamed: 0\": 13, \"num_paragraph\": 13, \"section\": \"related work\", \"section_paragraph\": 3, \"occurence\": 0}, {\"Unnamed: 0\": 14, \"num_paragraph\": 14, \"section\": \"background\", \"section_paragraph\": 0, \"occurence\": 1}, {\"Unnamed: 0\": 15, \"num_paragraph\": 15, \"section\": \"background\", \"section_paragraph\": 1, \"occurence\": 0}, {\"Unnamed: 0\": 16, \"num_paragraph\": 16, \"section\": \"background\", \"section_paragraph\": 2, \"occurence\": 0}, {\"Unnamed: 0\": 17, \"num_paragraph\": 17, \"section\": \"background\", \"section_paragraph\": 3, \"occurence\": 0}, {\"Unnamed: 0\": 18, \"num_paragraph\": 18, \"section\": \"background\", \"section_paragraph\": 4, \"occurence\": 0}, {\"Unnamed: 0\": 19, \"num_paragraph\": 19, \"section\": \"background\", \"section_paragraph\": 5, \"occurence\": 0}, {\"Unnamed: 0\": 20, \"num_paragraph\": 20, \"section\": \"background\", \"section_paragraph\": 6, \"occurence\": 0}, {\"Unnamed: 0\": 21, \"num_paragraph\": 21, \"section\": \"method\", \"section_paragraph\": 0, \"occurence\": 0}, {\"Unnamed: 0\": 22, \"num_paragraph\": 22, \"section\": \"method\", \"section_paragraph\": 1, \"occurence\": 1}, {\"Unnamed: 0\": 23, \"num_paragraph\": 23, \"section\": \"method\", \"section_paragraph\": 2, \"occurence\": 0}, {\"Unnamed: 0\": 24, \"num_paragraph\": 24, \"section\": \"method\", \"section_paragraph\": 3, \"occurence\": 0}, {\"Unnamed: 0\": 25, \"num_paragraph\": 25, \"section\": \"method\", \"section_paragraph\": 4, \"occurence\": 0}, {\"Unnamed: 0\": 26, \"num_paragraph\": 26, \"section\": \"method\", \"section_paragraph\": 5, \"occurence\": 0}, {\"Unnamed: 0\": 27, \"num_paragraph\": 27, \"section\": \"method\", \"section_paragraph\": 6, \"occurence\": 0}, {\"Unnamed: 0\": 28, \"num_paragraph\": 28, \"section\": \"findings\", \"section_paragraph\": 0, \"occurence\": 0}, {\"Unnamed: 0\": 29, \"num_paragraph\": 29, \"section\": \"findings\", \"section_paragraph\": 1, \"occurence\": 0}, {\"Unnamed: 0\": 30, \"num_paragraph\": 30, \"section\": \"findings\", \"section_paragraph\": 2, \"occurence\": 2}, {\"Unnamed: 0\": 31, \"num_paragraph\": 31, \"section\": \"findings\", \"section_paragraph\": 3, \"occurence\": 0}, {\"Unnamed: 0\": 32, \"num_paragraph\": 32, \"section\": \"findings\", \"section_paragraph\": 4, \"occurence\": 2}, {\"Unnamed: 0\": 33, \"num_paragraph\": 33, \"section\": \"findings\", \"section_paragraph\": 5, \"occurence\": 0}, {\"Unnamed: 0\": 34, \"num_paragraph\": 34, \"section\": \"findings\", \"section_paragraph\": 6, \"occurence\": 1}, {\"Unnamed: 0\": 35, \"num_paragraph\": 35, \"section\": \"findings\", \"section_paragraph\": 7, \"occurence\": 0}, {\"Unnamed: 0\": 36, \"num_paragraph\": 36, \"section\": \"findings\", \"section_paragraph\": 8, \"occurence\": 0}, {\"Unnamed: 0\": 37, \"num_paragraph\": 37, \"section\": \"findings\", \"section_paragraph\": 9, \"occurence\": 7}, {\"Unnamed: 0\": 38, \"num_paragraph\": 38, \"section\": \"findings\", \"section_paragraph\": 10, \"occurence\": 0}, {\"Unnamed: 0\": 39, \"num_paragraph\": 39, \"section\": \"findings\", \"section_paragraph\": 11, \"occurence\": 0}, {\"Unnamed: 0\": 40, \"num_paragraph\": 40, \"section\": \"findings\", \"section_paragraph\": 12, \"occurence\": 0}, {\"Unnamed: 0\": 41, \"num_paragraph\": 41, \"section\": \"findings\", \"section_paragraph\": 13, \"occurence\": 0}, {\"Unnamed: 0\": 42, \"num_paragraph\": 42, \"section\": \"findings\", \"section_paragraph\": 14, \"occurence\": 5}, {\"Unnamed: 0\": 43, \"num_paragraph\": 43, \"section\": \"findings\", \"section_paragraph\": 15, \"occurence\": 2}, {\"Unnamed: 0\": 44, \"num_paragraph\": 44, \"section\": \"findings\", \"section_paragraph\": 16, \"occurence\": 0}, {\"Unnamed: 0\": 45, \"num_paragraph\": 45, \"section\": \"findings\", \"section_paragraph\": 17, \"occurence\": 0}, {\"Unnamed: 0\": 46, \"num_paragraph\": 46, \"section\": \"findings\", \"section_paragraph\": 18, \"occurence\": 0}, {\"Unnamed: 0\": 47, \"num_paragraph\": 47, \"section\": \"findings\", \"section_paragraph\": 19, \"occurence\": 0}, {\"Unnamed: 0\": 48, \"num_paragraph\": 48, \"section\": \"findings\", \"section_paragraph\": 20, \"occurence\": 0}, {\"Unnamed: 0\": 49, \"num_paragraph\": 49, \"section\": \"findings\", \"section_paragraph\": 21, \"occurence\": 0}, {\"Unnamed: 0\": 50, \"num_paragraph\": 50, \"section\": \"findings\", \"section_paragraph\": 22, \"occurence\": 0}, {\"Unnamed: 0\": 51, \"num_paragraph\": 51, \"section\": \"findings\", \"section_paragraph\": 23, \"occurence\": 2}, {\"Unnamed: 0\": 52, \"num_paragraph\": 52, \"section\": \"findings\", \"section_paragraph\": 24, \"occurence\": 1}, {\"Unnamed: 0\": 53, \"num_paragraph\": 53, \"section\": \"findings\", \"section_paragraph\": 25, \"occurence\": 0}, {\"Unnamed: 0\": 54, \"num_paragraph\": 54, \"section\": \"findings\", \"section_paragraph\": 26, \"occurence\": 4}, {\"Unnamed: 0\": 55, \"num_paragraph\": 55, \"section\": \"findings\", \"section_paragraph\": 27, \"occurence\": 2}, {\"Unnamed: 0\": 56, \"num_paragraph\": 56, \"section\": \"findings\", \"section_paragraph\": 28, \"occurence\": 2}, {\"Unnamed: 0\": 57, \"num_paragraph\": 57, \"section\": \"findings\", \"section_paragraph\": 29, \"occurence\": 3}, {\"Unnamed: 0\": 58, \"num_paragraph\": 58, \"section\": \"findings\", \"section_paragraph\": 30, \"occurence\": 2}, {\"Unnamed: 0\": 59, \"num_paragraph\": 59, \"section\": \"findings\", \"section_paragraph\": 31, \"occurence\": 1}, {\"Unnamed: 0\": 60, \"num_paragraph\": 60, \"section\": \"findings\", \"section_paragraph\": 32, \"occurence\": 0}, {\"Unnamed: 0\": 61, \"num_paragraph\": 61, \"section\": \"findings\", \"section_paragraph\": 33, \"occurence\": 0}, {\"Unnamed: 0\": 62, \"num_paragraph\": 62, \"section\": \"findings\", \"section_paragraph\": 34, \"occurence\": 1}, {\"Unnamed: 0\": 63, \"num_paragraph\": 63, \"section\": \"findings\", \"section_paragraph\": 35, \"occurence\": 0}, {\"Unnamed: 0\": 64, \"num_paragraph\": 64, \"section\": \"findings\", \"section_paragraph\": 36, \"occurence\": 2}, {\"Unnamed: 0\": 65, \"num_paragraph\": 65, \"section\": \"findings\", \"section_paragraph\": 37, \"occurence\": 0}, {\"Unnamed: 0\": 66, \"num_paragraph\": 66, \"section\": \"findings\", \"section_paragraph\": 38, \"occurence\": 0}, {\"Unnamed: 0\": 67, \"num_paragraph\": 67, \"section\": \"findings\", \"section_paragraph\": 39, \"occurence\": 0}, {\"Unnamed: 0\": 68, \"num_paragraph\": 68, \"section\": \"findings\", \"section_paragraph\": 40, \"occurence\": 1}, {\"Unnamed: 0\": 69, \"num_paragraph\": 69, \"section\": \"findings\", \"section_paragraph\": 41, \"occurence\": 2}, {\"Unnamed: 0\": 70, \"num_paragraph\": 70, \"section\": \"findings\", \"section_paragraph\": 42, \"occurence\": 0}, {\"Unnamed: 0\": 71, \"num_paragraph\": 71, \"section\": \"findings\", \"section_paragraph\": 43, \"occurence\": 0}, {\"Unnamed: 0\": 72, \"num_paragraph\": 72, \"section\": \"findings\", \"section_paragraph\": 44, \"occurence\": 0}, {\"Unnamed: 0\": 73, \"num_paragraph\": 73, \"section\": \"findings\", \"section_paragraph\": 45, \"occurence\": 0}, {\"Unnamed: 0\": 74, \"num_paragraph\": 74, \"section\": \"findings\", \"section_paragraph\": 46, \"occurence\": 2}, {\"Unnamed: 0\": 75, \"num_paragraph\": 75, \"section\": \"findings\", \"section_paragraph\": 47, \"occurence\": 0}, {\"Unnamed: 0\": 76, \"num_paragraph\": 76, \"section\": \"findings\", \"section_paragraph\": 48, \"occurence\": 0}, {\"Unnamed: 0\": 77, \"num_paragraph\": 77, \"section\": \"findings\", \"section_paragraph\": 49, \"occurence\": 0}, {\"Unnamed: 0\": 78, \"num_paragraph\": 78, \"section\": \"findings\", \"section_paragraph\": 50, \"occurence\": 0}, {\"Unnamed: 0\": 79, \"num_paragraph\": 79, \"section\": \"findings\", \"section_paragraph\": 51, \"occurence\": 0}, {\"Unnamed: 0\": 80, \"num_paragraph\": 80, \"section\": \"findings\", \"section_paragraph\": 52, \"occurence\": 2}, {\"Unnamed: 0\": 81, \"num_paragraph\": 81, \"section\": \"findings\", \"section_paragraph\": 53, \"occurence\": 0}, {\"Unnamed: 0\": 82, \"num_paragraph\": 82, \"section\": \"findings\", \"section_paragraph\": 54, \"occurence\": 0}, {\"Unnamed: 0\": 83, \"num_paragraph\": 83, \"section\": \"findings\", \"section_paragraph\": 55, \"occurence\": 0}, {\"Unnamed: 0\": 84, \"num_paragraph\": 84, \"section\": \"findings\", \"section_paragraph\": 56, \"occurence\": 0}, {\"Unnamed: 0\": 85, \"num_paragraph\": 85, \"section\": \"findings\", \"section_paragraph\": 57, \"occurence\": 0}, {\"Unnamed: 0\": 86, \"num_paragraph\": 86, \"section\": \"discussion\", \"section_paragraph\": 0, \"occurence\": 1}, {\"Unnamed: 0\": 87, \"num_paragraph\": 87, \"section\": \"discussion\", \"section_paragraph\": 1, \"occurence\": 3}, {\"Unnamed: 0\": 88, \"num_paragraph\": 88, \"section\": \"discussion\", \"section_paragraph\": 2, \"occurence\": 4}, {\"Unnamed: 0\": 89, \"num_paragraph\": 89, \"section\": \"discussion\", \"section_paragraph\": 3, \"occurence\": 0}, {\"Unnamed: 0\": 90, \"num_paragraph\": 90, \"section\": \"discussion\", \"section_paragraph\": 4, \"occurence\": 0}, {\"Unnamed: 0\": 91, \"num_paragraph\": 91, \"section\": \"discussion\", \"section_paragraph\": 5, \"occurence\": 0}, {\"Unnamed: 0\": 92, \"num_paragraph\": 92, \"section\": \"discussion\", \"section_paragraph\": 6, \"occurence\": 1}, {\"Unnamed: 0\": 93, \"num_paragraph\": 93, \"section\": \"discussion\", \"section_paragraph\": 7, \"occurence\": 0}, {\"Unnamed: 0\": 94, \"num_paragraph\": 94, \"section\": \"discussion\", \"section_paragraph\": 8, \"occurence\": 0}, {\"Unnamed: 0\": 95, \"num_paragraph\": 95, \"section\": \"discussion\", \"section_paragraph\": 9, \"occurence\": 2}, {\"Unnamed: 0\": 96, \"num_paragraph\": 96, \"section\": \"conclusion\", \"section_paragraph\": 0, \"occurence\": 1}, {\"Unnamed: 0\": 97, \"num_paragraph\": 97, \"section\": \"conclusion\", \"section_paragraph\": 1, \"occurence\": 0}]}}, {\"mode\": \"vega-lite\"});\n",
       "</script>"
      ],
      "text/plain": [
       "alt.Chart(...)"
      ]
     },
     "execution_count": 40,
     "metadata": {},
     "output_type": "execute_result"
    }
   ],
   "source": [
    "create_bar_chart(sample_data)"
   ]
  },
  {
   "cell_type": "markdown",
   "id": "3aa4a296",
   "metadata": {},
   "source": [
    "### Some Ideas\n",
    "\n",
    "- What if we added a click selection that would show all the citations within the paragraph selected as a related work subpanel?\n",
    "- If we can parse the figures out, maybe we can add related figure information to the hover interaction? So you hover over a paragraph and it tells you the section, text paragraph number, as well as the related figure number\n",
    "- For the default, do we want to suggest the top N number of keywords while displaying the plots for the top word? But then allow the user to click or input some of the other ones"
   ]
  },
  {
   "cell_type": "code",
   "execution_count": null,
   "id": "695a0d19",
   "metadata": {},
   "outputs": [],
   "source": []
  }
 ],
 "metadata": {
  "kernelspec": {
   "display_name": "Python 3",
   "language": "python",
   "name": "python3"
  },
  "language_info": {
   "codemirror_mode": {
    "name": "ipython",
    "version": 3
   },
   "file_extension": ".py",
   "mimetype": "text/x-python",
   "name": "python",
   "nbconvert_exporter": "python",
   "pygments_lexer": "ipython3",
   "version": "3.7.10"
  }
 },
 "nbformat": 4,
 "nbformat_minor": 5
}
