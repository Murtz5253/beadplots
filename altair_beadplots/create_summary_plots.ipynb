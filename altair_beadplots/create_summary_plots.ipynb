{
 "cells": [
  {
   "cell_type": "code",
   "execution_count": 1,
   "id": "7e9433b3",
   "metadata": {},
   "outputs": [],
   "source": [
    "import pandas as pd\n",
    "import numpy as np\n",
    "import altair as alt\n",
    "\n",
    "from collections import OrderedDict"
   ]
  },
  {
   "cell_type": "code",
   "execution_count": 4,
   "id": "546b95af",
   "metadata": {},
   "outputs": [
    {
     "data": {
      "text/html": [
       "<div>\n",
       "<style scoped>\n",
       "    .dataframe tbody tr th:only-of-type {\n",
       "        vertical-align: middle;\n",
       "    }\n",
       "\n",
       "    .dataframe tbody tr th {\n",
       "        vertical-align: top;\n",
       "    }\n",
       "\n",
       "    .dataframe thead th {\n",
       "        text-align: right;\n",
       "    }\n",
       "</style>\n",
       "<table border=\"1\" class=\"dataframe\">\n",
       "  <thead>\n",
       "    <tr style=\"text-align: right;\">\n",
       "      <th></th>\n",
       "      <th>num_paragraph</th>\n",
       "      <th>section</th>\n",
       "      <th>section_paragraph</th>\n",
       "      <th>occurence</th>\n",
       "    </tr>\n",
       "  </thead>\n",
       "  <tbody>\n",
       "    <tr>\n",
       "      <th>0</th>\n",
       "      <td>0</td>\n",
       "      <td>abstract</td>\n",
       "      <td>0</td>\n",
       "      <td>2</td>\n",
       "    </tr>\n",
       "    <tr>\n",
       "      <th>1</th>\n",
       "      <td>1</td>\n",
       "      <td>abstract</td>\n",
       "      <td>1</td>\n",
       "      <td>0</td>\n",
       "    </tr>\n",
       "    <tr>\n",
       "      <th>2</th>\n",
       "      <td>2</td>\n",
       "      <td>introduction</td>\n",
       "      <td>0</td>\n",
       "      <td>0</td>\n",
       "    </tr>\n",
       "    <tr>\n",
       "      <th>3</th>\n",
       "      <td>3</td>\n",
       "      <td>introduction</td>\n",
       "      <td>1</td>\n",
       "      <td>0</td>\n",
       "    </tr>\n",
       "    <tr>\n",
       "      <th>4</th>\n",
       "      <td>4</td>\n",
       "      <td>introduction</td>\n",
       "      <td>2</td>\n",
       "      <td>0</td>\n",
       "    </tr>\n",
       "  </tbody>\n",
       "</table>\n",
       "</div>"
      ],
      "text/plain": [
       "   num_paragraph       section  section_paragraph  occurence\n",
       "0              0      abstract                  0          2\n",
       "1              1      abstract                  1          0\n",
       "2              2  introduction                  0          0\n",
       "3              3  introduction                  1          0\n",
       "4              4  introduction                  2          0"
      ]
     },
     "execution_count": 4,
     "metadata": {},
     "output_type": "execute_result"
    }
   ],
   "source": [
    "sample_data = pd.read_csv('./test_data/women_comp_india_static_plot_data.csv')\n",
    "sample_data = sample_data.drop(['Unnamed: 0'], axis=1)\n",
    "\n",
    "\n",
    "sample_data.head()"
   ]
  },
  {
   "cell_type": "code",
   "execution_count": 87,
   "id": "52adc054",
   "metadata": {},
   "outputs": [],
   "source": [
    "section_order = sample_data.sort_values('num_paragraph').section.unique().tolist()\n",
    "section_order_num = []"
   ]
  },
  {
   "cell_type": "code",
   "execution_count": 114,
   "id": "96464344",
   "metadata": {},
   "outputs": [],
   "source": [
    "# temporarily removed 'scale=alt.Scale(domainMin= 0)' for alt,Y, b/c it fails to run on my conda env; I will figure out a workaround later\n",
    "def create_bar_chart(sample_data):\n",
    "    max_occurence = sample_data.occurence.max()\n",
    "    chart = alt.Chart(sample_data).mark_bar(\n",
    "             width=6\n",
    "    ).encode(\n",
    "        x=alt.X('section:O', title='Paper Section',\n",
    "                axis=alt.Axis(grid=False),sort=list(OrderedDict.fromkeys(sample_data['section']))),\n",
    "        y=alt.Y('sum_occ:Q', title='Key Word Occurence',\n",
    "                axis=alt.Axis(grid=False),\n",
    "               scale=alt.Scale(domainMin=0)),\n",
    "        color='section',\n",
    "        tooltip=['section:N', 'sum_occ:Q']\n",
    "    ).transform_aggregate(\n",
    "    sum_occ='sum(occurence)',\n",
    "    groupby=[\"section\"]\n",
    ").properties(\n",
    "        width=200,\n",
    "        height=250\n",
    "    )\n",
    "\n",
    "    return chart"
   ]
  },
  {
   "cell_type": "code",
   "execution_count": 115,
   "id": "53cc1302",
   "metadata": {},
   "outputs": [],
   "source": [
    "def create_staggered_bead(sample_data):\n",
    "    max_paragraph = sample_data.num_paragraph.max()\n",
    "    base = alt.Chart(sample_data).mark_circle(opacity=1 ).encode(    #stroke='#4c78a8'\n",
    "        x=alt.X('num_paragraph:O', title='Paragraph Number', \n",
    "                axis=alt.Axis(grid=False,\n",
    "                              values=list(range(1, max_paragraph+1, 5)), labelAngle=0)),\n",
    "        y=alt.Y('section:N', sort=list(OrderedDict.fromkeys(sample_data['section']))), \n",
    "        size=alt.Size('occurence:Q', title=\"Key Word Occurence\"),\n",
    "        color = 'section',\n",
    "        tooltip=['section:N','section_paragraph:Q', 'occurence:Q']\n",
    "    ).properties(\n",
    "        width=500,\n",
    "        height=250\n",
    "    )\n",
    "    lines = alt.Chart(sample_data).mark_tick(orient='horizontal').encode( #.mark_tick(stroke='#4c78a8')\n",
    "        x=alt.X('num_paragraph:O', title='Paragraph Number', \n",
    "                axis=alt.Axis(grid=False,\n",
    "                              values=list(range(1, max_paragraph+1, 5)), labelAngle=0)), \n",
    "        y=alt.Y('section:N',title='Paper Section', sort=list(OrderedDict.fromkeys(sample_data['section']))),\n",
    "        color = 'section'\n",
    "    ).properties(\n",
    "        width=500,\n",
    "        height=250\n",
    "    )\n",
    "    return base + lines"
   ]
  },
  {
   "cell_type": "code",
   "execution_count": 116,
   "id": "e8374240",
   "metadata": {},
   "outputs": [
    {
     "data": {
      "text/html": [
       "\n",
       "<div id=\"altair-viz-3bb7a22cb5e54294bdd526050763d5d9\"></div>\n",
       "<script type=\"text/javascript\">\n",
       "  var VEGA_DEBUG = (typeof VEGA_DEBUG == \"undefined\") ? {} : VEGA_DEBUG;\n",
       "  (function(spec, embedOpt){\n",
       "    let outputDiv = document.currentScript.previousElementSibling;\n",
       "    if (outputDiv.id !== \"altair-viz-3bb7a22cb5e54294bdd526050763d5d9\") {\n",
       "      outputDiv = document.getElementById(\"altair-viz-3bb7a22cb5e54294bdd526050763d5d9\");\n",
       "    }\n",
       "    const paths = {\n",
       "      \"vega\": \"https://cdn.jsdelivr.net/npm//vega@5?noext\",\n",
       "      \"vega-lib\": \"https://cdn.jsdelivr.net/npm//vega-lib?noext\",\n",
       "      \"vega-lite\": \"https://cdn.jsdelivr.net/npm//vega-lite@4.17.0?noext\",\n",
       "      \"vega-embed\": \"https://cdn.jsdelivr.net/npm//vega-embed@6?noext\",\n",
       "    };\n",
       "\n",
       "    function maybeLoadScript(lib, version) {\n",
       "      var key = `${lib.replace(\"-\", \"\")}_version`;\n",
       "      return (VEGA_DEBUG[key] == version) ?\n",
       "        Promise.resolve(paths[lib]) :\n",
       "        new Promise(function(resolve, reject) {\n",
       "          var s = document.createElement('script');\n",
       "          document.getElementsByTagName(\"head\")[0].appendChild(s);\n",
       "          s.async = true;\n",
       "          s.onload = () => {\n",
       "            VEGA_DEBUG[key] = version;\n",
       "            return resolve(paths[lib]);\n",
       "          };\n",
       "          s.onerror = () => reject(`Error loading script: ${paths[lib]}`);\n",
       "          s.src = paths[lib];\n",
       "        });\n",
       "    }\n",
       "\n",
       "    function showError(err) {\n",
       "      outputDiv.innerHTML = `<div class=\"error\" style=\"color:red;\">${err}</div>`;\n",
       "      throw err;\n",
       "    }\n",
       "\n",
       "    function displayChart(vegaEmbed) {\n",
       "      vegaEmbed(outputDiv, spec, embedOpt)\n",
       "        .catch(err => showError(`Javascript Error: ${err.message}<br>This usually means there's a typo in your chart specification. See the javascript console for the full traceback.`));\n",
       "    }\n",
       "\n",
       "    if(typeof define === \"function\" && define.amd) {\n",
       "      requirejs.config({paths});\n",
       "      require([\"vega-embed\"], displayChart, err => showError(`Error loading script: ${err.message}`));\n",
       "    } else {\n",
       "      maybeLoadScript(\"vega\", \"5\")\n",
       "        .then(() => maybeLoadScript(\"vega-lite\", \"4.17.0\"))\n",
       "        .then(() => maybeLoadScript(\"vega-embed\", \"6\"))\n",
       "        .catch(showError)\n",
       "        .then(() => displayChart(vegaEmbed));\n",
       "    }\n",
       "  })({\"config\": {\"view\": {\"continuousWidth\": 400, \"continuousHeight\": 300}}, \"hconcat\": [{\"layer\": [{\"mark\": {\"type\": \"circle\", \"opacity\": 1}, \"encoding\": {\"color\": {\"field\": \"section\", \"type\": \"nominal\"}, \"size\": {\"field\": \"occurence\", \"title\": \"Key Word Occurence\", \"type\": \"quantitative\"}, \"tooltip\": [{\"field\": \"section\", \"type\": \"nominal\"}, {\"field\": \"section_paragraph\", \"type\": \"quantitative\"}, {\"field\": \"occurence\", \"type\": \"quantitative\"}], \"x\": {\"axis\": {\"grid\": false, \"labelAngle\": 0, \"values\": [1, 6, 11, 16, 21, 26, 31, 36, 41, 46, 51, 56, 61, 66, 71, 76, 81, 86, 91, 96]}, \"field\": \"num_paragraph\", \"title\": \"Paragraph Number\", \"type\": \"ordinal\"}, \"y\": {\"field\": \"section\", \"sort\": [\"abstract\", \"introduction\", \"related work\", \"background\", \"method\", \"findings\", \"discussion\", \"conclusion\"], \"type\": \"nominal\"}}, \"height\": 250, \"width\": 500}, {\"mark\": {\"type\": \"tick\", \"orient\": \"horizontal\"}, \"encoding\": {\"color\": {\"field\": \"section\", \"type\": \"nominal\"}, \"x\": {\"axis\": {\"grid\": false, \"labelAngle\": 0, \"values\": [1, 6, 11, 16, 21, 26, 31, 36, 41, 46, 51, 56, 61, 66, 71, 76, 81, 86, 91, 96]}, \"field\": \"num_paragraph\", \"title\": \"Paragraph Number\", \"type\": \"ordinal\"}, \"y\": {\"field\": \"section\", \"sort\": [\"abstract\", \"introduction\", \"related work\", \"background\", \"method\", \"findings\", \"discussion\", \"conclusion\"], \"title\": \"Paper Section\", \"type\": \"nominal\"}}, \"height\": 250, \"width\": 500}]}, {\"mark\": {\"type\": \"bar\", \"width\": 6}, \"encoding\": {\"color\": {\"field\": \"section\", \"type\": \"nominal\"}, \"tooltip\": [{\"field\": \"section\", \"type\": \"nominal\"}, {\"field\": \"sum_occ\", \"type\": \"quantitative\"}], \"x\": {\"axis\": {\"grid\": false}, \"field\": \"section\", \"sort\": [\"abstract\", \"introduction\", \"related work\", \"background\", \"method\", \"findings\", \"discussion\", \"conclusion\"], \"title\": \"Paper Section\", \"type\": \"ordinal\"}, \"y\": {\"axis\": {\"grid\": false}, \"field\": \"sum_occ\", \"scale\": {\"domainMin\": 0}, \"title\": \"Key Word Occurence\", \"type\": \"quantitative\"}}, \"height\": 250, \"transform\": [{\"aggregate\": [{\"op\": \"sum\", \"field\": \"occurence\", \"as\": \"sum_occ\"}], \"groupby\": [\"section\"]}], \"width\": 200}], \"data\": {\"name\": \"data-b4ae641c0ac1e60f3cc8580635ae6e52\"}, \"$schema\": \"https://vega.github.io/schema/vega-lite/v4.17.0.json\", \"datasets\": {\"data-b4ae641c0ac1e60f3cc8580635ae6e52\": [{\"num_paragraph\": 0, \"section\": \"abstract\", \"section_paragraph\": 0, \"occurence\": 2}, {\"num_paragraph\": 1, \"section\": \"abstract\", \"section_paragraph\": 1, \"occurence\": 0}, {\"num_paragraph\": 2, \"section\": \"introduction\", \"section_paragraph\": 0, \"occurence\": 0}, {\"num_paragraph\": 3, \"section\": \"introduction\", \"section_paragraph\": 1, \"occurence\": 0}, {\"num_paragraph\": 4, \"section\": \"introduction\", \"section_paragraph\": 2, \"occurence\": 0}, {\"num_paragraph\": 5, \"section\": \"introduction\", \"section_paragraph\": 3, \"occurence\": 0}, {\"num_paragraph\": 6, \"section\": \"introduction\", \"section_paragraph\": 4, \"occurence\": 2}, {\"num_paragraph\": 7, \"section\": \"introduction\", \"section_paragraph\": 5, \"occurence\": 1}, {\"num_paragraph\": 8, \"section\": \"introduction\", \"section_paragraph\": 6, \"occurence\": 0}, {\"num_paragraph\": 9, \"section\": \"introduction\", \"section_paragraph\": 7, \"occurence\": 1}, {\"num_paragraph\": 10, \"section\": \"related work\", \"section_paragraph\": 0, \"occurence\": 0}, {\"num_paragraph\": 11, \"section\": \"related work\", \"section_paragraph\": 1, \"occurence\": 0}, {\"num_paragraph\": 12, \"section\": \"related work\", \"section_paragraph\": 2, \"occurence\": 1}, {\"num_paragraph\": 13, \"section\": \"related work\", \"section_paragraph\": 3, \"occurence\": 0}, {\"num_paragraph\": 14, \"section\": \"background\", \"section_paragraph\": 0, \"occurence\": 1}, {\"num_paragraph\": 15, \"section\": \"background\", \"section_paragraph\": 1, \"occurence\": 0}, {\"num_paragraph\": 16, \"section\": \"background\", \"section_paragraph\": 2, \"occurence\": 0}, {\"num_paragraph\": 17, \"section\": \"background\", \"section_paragraph\": 3, \"occurence\": 0}, {\"num_paragraph\": 18, \"section\": \"background\", \"section_paragraph\": 4, \"occurence\": 0}, {\"num_paragraph\": 19, \"section\": \"background\", \"section_paragraph\": 5, \"occurence\": 0}, {\"num_paragraph\": 20, \"section\": \"background\", \"section_paragraph\": 6, \"occurence\": 0}, {\"num_paragraph\": 21, \"section\": \"method\", \"section_paragraph\": 0, \"occurence\": 0}, {\"num_paragraph\": 22, \"section\": \"method\", \"section_paragraph\": 1, \"occurence\": 1}, {\"num_paragraph\": 23, \"section\": \"method\", \"section_paragraph\": 2, \"occurence\": 0}, {\"num_paragraph\": 24, \"section\": \"method\", \"section_paragraph\": 3, \"occurence\": 0}, {\"num_paragraph\": 25, \"section\": \"method\", \"section_paragraph\": 4, \"occurence\": 0}, {\"num_paragraph\": 26, \"section\": \"method\", \"section_paragraph\": 5, \"occurence\": 0}, {\"num_paragraph\": 27, \"section\": \"method\", \"section_paragraph\": 6, \"occurence\": 0}, {\"num_paragraph\": 28, \"section\": \"findings\", \"section_paragraph\": 0, \"occurence\": 0}, {\"num_paragraph\": 29, \"section\": \"findings\", \"section_paragraph\": 1, \"occurence\": 0}, {\"num_paragraph\": 30, \"section\": \"findings\", \"section_paragraph\": 2, \"occurence\": 2}, {\"num_paragraph\": 31, \"section\": \"findings\", \"section_paragraph\": 3, \"occurence\": 0}, {\"num_paragraph\": 32, \"section\": \"findings\", \"section_paragraph\": 4, \"occurence\": 2}, {\"num_paragraph\": 33, \"section\": \"findings\", \"section_paragraph\": 5, \"occurence\": 0}, {\"num_paragraph\": 34, \"section\": \"findings\", \"section_paragraph\": 6, \"occurence\": 1}, {\"num_paragraph\": 35, \"section\": \"findings\", \"section_paragraph\": 7, \"occurence\": 0}, {\"num_paragraph\": 36, \"section\": \"findings\", \"section_paragraph\": 8, \"occurence\": 0}, {\"num_paragraph\": 37, \"section\": \"findings\", \"section_paragraph\": 9, \"occurence\": 7}, {\"num_paragraph\": 38, \"section\": \"findings\", \"section_paragraph\": 10, \"occurence\": 0}, {\"num_paragraph\": 39, \"section\": \"findings\", \"section_paragraph\": 11, \"occurence\": 0}, {\"num_paragraph\": 40, \"section\": \"findings\", \"section_paragraph\": 12, \"occurence\": 0}, {\"num_paragraph\": 41, \"section\": \"findings\", \"section_paragraph\": 13, \"occurence\": 0}, {\"num_paragraph\": 42, \"section\": \"findings\", \"section_paragraph\": 14, \"occurence\": 5}, {\"num_paragraph\": 43, \"section\": \"findings\", \"section_paragraph\": 15, \"occurence\": 2}, {\"num_paragraph\": 44, \"section\": \"findings\", \"section_paragraph\": 16, \"occurence\": 0}, {\"num_paragraph\": 45, \"section\": \"findings\", \"section_paragraph\": 17, \"occurence\": 0}, {\"num_paragraph\": 46, \"section\": \"findings\", \"section_paragraph\": 18, \"occurence\": 0}, {\"num_paragraph\": 47, \"section\": \"findings\", \"section_paragraph\": 19, \"occurence\": 0}, {\"num_paragraph\": 48, \"section\": \"findings\", \"section_paragraph\": 20, \"occurence\": 0}, {\"num_paragraph\": 49, \"section\": \"findings\", \"section_paragraph\": 21, \"occurence\": 0}, {\"num_paragraph\": 50, \"section\": \"findings\", \"section_paragraph\": 22, \"occurence\": 0}, {\"num_paragraph\": 51, \"section\": \"findings\", \"section_paragraph\": 23, \"occurence\": 2}, {\"num_paragraph\": 52, \"section\": \"findings\", \"section_paragraph\": 24, \"occurence\": 1}, {\"num_paragraph\": 53, \"section\": \"findings\", \"section_paragraph\": 25, \"occurence\": 0}, {\"num_paragraph\": 54, \"section\": \"findings\", \"section_paragraph\": 26, \"occurence\": 4}, {\"num_paragraph\": 55, \"section\": \"findings\", \"section_paragraph\": 27, \"occurence\": 2}, {\"num_paragraph\": 56, \"section\": \"findings\", \"section_paragraph\": 28, \"occurence\": 2}, {\"num_paragraph\": 57, \"section\": \"findings\", \"section_paragraph\": 29, \"occurence\": 3}, {\"num_paragraph\": 58, \"section\": \"findings\", \"section_paragraph\": 30, \"occurence\": 2}, {\"num_paragraph\": 59, \"section\": \"findings\", \"section_paragraph\": 31, \"occurence\": 1}, {\"num_paragraph\": 60, \"section\": \"findings\", \"section_paragraph\": 32, \"occurence\": 0}, {\"num_paragraph\": 61, \"section\": \"findings\", \"section_paragraph\": 33, \"occurence\": 0}, {\"num_paragraph\": 62, \"section\": \"findings\", \"section_paragraph\": 34, \"occurence\": 1}, {\"num_paragraph\": 63, \"section\": \"findings\", \"section_paragraph\": 35, \"occurence\": 0}, {\"num_paragraph\": 64, \"section\": \"findings\", \"section_paragraph\": 36, \"occurence\": 2}, {\"num_paragraph\": 65, \"section\": \"findings\", \"section_paragraph\": 37, \"occurence\": 0}, {\"num_paragraph\": 66, \"section\": \"findings\", \"section_paragraph\": 38, \"occurence\": 0}, {\"num_paragraph\": 67, \"section\": \"findings\", \"section_paragraph\": 39, \"occurence\": 0}, {\"num_paragraph\": 68, \"section\": \"findings\", \"section_paragraph\": 40, \"occurence\": 1}, {\"num_paragraph\": 69, \"section\": \"findings\", \"section_paragraph\": 41, \"occurence\": 2}, {\"num_paragraph\": 70, \"section\": \"findings\", \"section_paragraph\": 42, \"occurence\": 0}, {\"num_paragraph\": 71, \"section\": \"findings\", \"section_paragraph\": 43, \"occurence\": 0}, {\"num_paragraph\": 72, \"section\": \"findings\", \"section_paragraph\": 44, \"occurence\": 0}, {\"num_paragraph\": 73, \"section\": \"findings\", \"section_paragraph\": 45, \"occurence\": 0}, {\"num_paragraph\": 74, \"section\": \"findings\", \"section_paragraph\": 46, \"occurence\": 2}, {\"num_paragraph\": 75, \"section\": \"findings\", \"section_paragraph\": 47, \"occurence\": 0}, {\"num_paragraph\": 76, \"section\": \"findings\", \"section_paragraph\": 48, \"occurence\": 0}, {\"num_paragraph\": 77, \"section\": \"findings\", \"section_paragraph\": 49, \"occurence\": 0}, {\"num_paragraph\": 78, \"section\": \"findings\", \"section_paragraph\": 50, \"occurence\": 0}, {\"num_paragraph\": 79, \"section\": \"findings\", \"section_paragraph\": 51, \"occurence\": 0}, {\"num_paragraph\": 80, \"section\": \"findings\", \"section_paragraph\": 52, \"occurence\": 2}, {\"num_paragraph\": 81, \"section\": \"findings\", \"section_paragraph\": 53, \"occurence\": 0}, {\"num_paragraph\": 82, \"section\": \"findings\", \"section_paragraph\": 54, \"occurence\": 0}, {\"num_paragraph\": 83, \"section\": \"findings\", \"section_paragraph\": 55, \"occurence\": 0}, {\"num_paragraph\": 84, \"section\": \"findings\", \"section_paragraph\": 56, \"occurence\": 0}, {\"num_paragraph\": 85, \"section\": \"findings\", \"section_paragraph\": 57, \"occurence\": 0}, {\"num_paragraph\": 86, \"section\": \"discussion\", \"section_paragraph\": 0, \"occurence\": 1}, {\"num_paragraph\": 87, \"section\": \"discussion\", \"section_paragraph\": 1, \"occurence\": 3}, {\"num_paragraph\": 88, \"section\": \"discussion\", \"section_paragraph\": 2, \"occurence\": 4}, {\"num_paragraph\": 89, \"section\": \"discussion\", \"section_paragraph\": 3, \"occurence\": 0}, {\"num_paragraph\": 90, \"section\": \"discussion\", \"section_paragraph\": 4, \"occurence\": 0}, {\"num_paragraph\": 91, \"section\": \"discussion\", \"section_paragraph\": 5, \"occurence\": 0}, {\"num_paragraph\": 92, \"section\": \"discussion\", \"section_paragraph\": 6, \"occurence\": 1}, {\"num_paragraph\": 93, \"section\": \"discussion\", \"section_paragraph\": 7, \"occurence\": 0}, {\"num_paragraph\": 94, \"section\": \"discussion\", \"section_paragraph\": 8, \"occurence\": 0}, {\"num_paragraph\": 95, \"section\": \"discussion\", \"section_paragraph\": 9, \"occurence\": 2}, {\"num_paragraph\": 96, \"section\": \"conclusion\", \"section_paragraph\": 0, \"occurence\": 1}, {\"num_paragraph\": 97, \"section\": \"conclusion\", \"section_paragraph\": 1, \"occurence\": 0}]}}, {\"mode\": \"vega-lite\"});\n",
       "</script>"
      ],
      "text/plain": [
       "alt.HConcatChart(...)"
      ]
     },
     "execution_count": 116,
     "metadata": {},
     "output_type": "execute_result"
    }
   ],
   "source": [
    "create_staggered_bead(sample_data) | create_bar_chart(sample_data)"
   ]
  },
  {
   "cell_type": "markdown",
   "id": "3aa4a296",
   "metadata": {},
   "source": [
    "### Some Ideas\n",
    "\n",
    "- What if we added a click selection that would show all the citations within the paragraph selected as a related work subpanel?\n",
    "- If we can parse the figures out, maybe we can add related figure information to the hover interaction? So you hover over a paragraph and it tells you the section, text paragraph number, as well as the related figure number\n",
    "- For the default, do we want to suggest the top N number of keywords while displaying the plots for the top word? But then allow the user to click or input some of the other ones"
   ]
  },
  {
   "cell_type": "code",
   "execution_count": null,
   "id": "695a0d19",
   "metadata": {},
   "outputs": [],
   "source": []
  }
 ],
 "metadata": {
  "kernelspec": {
   "display_name": "Python 3",
   "language": "python",
   "name": "python3"
  },
  "language_info": {
   "codemirror_mode": {
    "name": "ipython",
    "version": 3
   },
   "file_extension": ".py",
   "mimetype": "text/x-python",
   "name": "python",
   "nbconvert_exporter": "python",
   "pygments_lexer": "ipython3",
   "version": "3.7.10"
  }
 },
 "nbformat": 4,
 "nbformat_minor": 5
}
